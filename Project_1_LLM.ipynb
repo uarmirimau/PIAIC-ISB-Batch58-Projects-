{
  "nbformat": 4,
  "nbformat_minor": 0,
  "metadata": {
    "colab": {
      "provenance": [],
      "authorship_tag": "ABX9TyMs7ZJOvD2YMfy0vJPG3CVS",
      "include_colab_link": true
    },
    "kernelspec": {
      "name": "python3",
      "display_name": "Python 3"
    },
    "language_info": {
      "name": "python"
    }
  },
  "cells": [
    {
      "cell_type": "markdown",
      "metadata": {
        "id": "view-in-github",
        "colab_type": "text"
      },
      "source": [
        "<a href=\"https://colab.research.google.com/github/uarmirimau/PIAIC-ISB-Batch58-Projects-/blob/master/Project_1_LLM.ipynb\" target=\"_parent\"><img src=\"https://colab.research.google.com/assets/colab-badge.svg\" alt=\"Open In Colab\"/></a>"
      ]
    },
    {
      "cell_type": "code",
      "execution_count": 1,
      "metadata": {
        "id": "idh5EO0cVayx"
      },
      "outputs": [],
      "source": [
        "!pip install -U -q google-genai"
      ]
    },
    {
      "cell_type": "code",
      "source": [
        "from google.colab import userdata\n",
        "import os\n",
        "os.environ['GOOGLE_API_KEY'] = userdata.get('GOOGLE_API_KEY')"
      ],
      "metadata": {
        "id": "CH8HkTFwV7Z4"
      },
      "execution_count": 2,
      "outputs": []
    },
    {
      "cell_type": "code",
      "source": [
        "from google import genai"
      ],
      "metadata": {
        "id": "f9tJTPw6V_HI"
      },
      "execution_count": 3,
      "outputs": []
    },
    {
      "cell_type": "code",
      "source": [
        "client = genai.Client()"
      ],
      "metadata": {
        "id": "ilreWRdlWERh"
      },
      "execution_count": 4,
      "outputs": []
    },
    {
      "cell_type": "code",
      "source": [
        "MODEL:str = \"gemini-2.0-flash-exp\""
      ],
      "metadata": {
        "id": "txzYeAchWKlI"
      },
      "execution_count": 5,
      "outputs": []
    },
    {
      "cell_type": "code",
      "source": [
        "response = client.models.generate_content(\n",
        "    model = MODEL,\n",
        "    contents = \"how to install window server\"\n",
        ")\n",
        "print(response.text)"
      ],
      "metadata": {
        "colab": {
          "base_uri": "https://localhost:8080/"
        },
        "id": "5SvqDAZzWNbW",
        "outputId": "19867f05-70fe-4188-a842-340e761d91bc"
      },
      "execution_count": 7,
      "outputs": [
        {
          "output_type": "stream",
          "name": "stdout",
          "text": [
            "Okay, let's break down how to install Windows Server.  It's a multi-step process, but if you follow these instructions carefully, you should be successful.\n",
            "\n",
            "**Before You Begin:**\n",
            "\n",
            "1. **Hardware Requirements:** Ensure your server hardware meets the minimum (and preferably recommended) requirements for the specific version of Windows Server you're installing. These requirements vary between versions (e.g., Windows Server 2019, 2022). Generally, you'll need:\n",
            "   * **Processor:**  At least a 64-bit processor, usually with multiple cores.\n",
            "   * **RAM:**  Minimum RAM requirements will vary, but more is generally better. Think in terms of gigabytes (GB). For example, 8GB or 16GB+ for basic servers.\n",
            "   * **Hard Drive Space:** Sufficient disk space for the operating system and any applications you intend to install. Consider using an SSD for faster performance.\n",
            "   * **Network Adapter:**  For connecting to the network.\n",
            "   * **DVD Drive or USB Port:** For installing from media or a USB drive.\n",
            "\n",
            "2. **Windows Server ISO or Media:** You'll need the installation media (DVD or ISO file) for your desired Windows Server version and edition. This usually comes from Microsoft.\n",
            "\n",
            "3. **Product Key:** A valid product key will be required during the installation process.\n",
            "\n",
            "4. **Bios/UEFI:** Be prepared to boot from the installation media by making changes in your computer’s BIOS or UEFI setting.\n",
            "\n",
            "5. **Administrator Credentials:** Have your desired administrator credentials ready.\n",
            "\n",
            "6. **Network Settings:** You'll need to decide if you will be using DHCP to obtain an IP address or if you want to configure static addresses.\n",
            "\n",
            "7. **Disk Partitioning:** Have a plan on how you will be partitioning the disk or creating volumes.\n",
            "\n",
            "8. **Backup (Optional but Recommended):** If you are installing on a system with existing data, back up the data first!\n",
            "\n",
            "**Steps for Installation:**\n",
            "\n",
            "**1. Boot from the Installation Media:**\n",
            "\n",
            "*   **Insert Media or Mount ISO:**\n",
            "    *   If using a DVD, insert it into your server's optical drive.\n",
            "    *   If using a USB drive, plug it in.\n",
            "    *   If using an ISO file, you will most likely use a virtual machine to load the iso file for installation, or you can use a tool like Rufus to make a bootable USB drive.\n",
            "*   **Restart Your Server:** Power on or restart your server.\n",
            "*   **Access Boot Menu:**  As your server starts, look for a message on screen (usually very briefly) indicating which key to press to access the boot menu or BIOS/UEFI setup. Common keys are `F12`, `F10`, `F2`, `Esc`, or `Delete`.\n",
            "*   **Select Boot Device:** In the boot menu, select your DVD drive or USB drive as the boot source.\n",
            "*   **Press any key to continue:** The windows loading screen will appear, and you will be prompted to press any key to continue. This is time sensitive, you may need to reboot if you miss it.\n",
            "\n",
            "**2. Windows Server Setup Begins:**\n",
            "\n",
            "*   **Language, Time, and Keyboard:** Select your language, time zone, and keyboard settings. Click **Next**.\n",
            "*   **Install Now:** Click the **Install now** button.\n",
            "*   **Product Key:** Enter your product key when prompted. If you are evaluating the software, there may be an option to proceed without entering a key. Click **Next**.\n",
            "*   **Choose Edition and Installation Type:**\n",
            "    *   **Edition:**  Select the specific edition of Windows Server you wish to install (e.g., Standard, Datacenter).\n",
            "    *   **Installation Type:**\n",
            "        *   **Server Core Installation:** Installs a command-line interface only (no graphical interface).  This is more secure and uses fewer resources but can be more challenging to manage.\n",
            "        *   **Server with Desktop Experience:** Installs the full graphical interface (like a regular desktop).  Easier to manage initially but uses more resources.\n",
            "    *   Click **Next**.\n",
            "*   **License Terms:**  Read the license terms, check the \"I accept the license terms\" box, and click **Next**.\n",
            "*   **Installation Type:** Choose a custom install.\n",
            "*   **Select Drive:** Select the drive (or partition) where you wish to install Windows Server. You can create, delete, and format partitions at this step. Then click **Next**.\n",
            "\n",
            "**3. Installation Process:**\n",
            "\n",
            "*   Windows will begin copying files, installing features, installing updates, and preparing the OS. This process may take some time, and the server may restart several times.\n",
            "*   **First Logon:** After restarting, you will be prompted to set the password for the local administrator account. This password needs to be strong.\n",
            "*   Click Finish and the server will reboot.\n",
            "\n",
            "**4. Post Installation:**\n",
            "\n",
            "*   **Log In:** Log in using the administrator account and password you just created.\n",
            "*   **Server Manager:** The Server Manager will likely open automatically. You can use this to manage your server.\n",
            "*   **Initial Configuration:** You'll likely need to configure several things like:\n",
            "    *   **Network Settings:** Verify your IP address, DNS settings, and any other network configurations.\n",
            "    *   **Computer Name:** Change the computer name of your server to something meaningful.\n",
            "    *   **Windows Updates:** Run Windows Update to install any available patches and updates.\n",
            "    *   **Activate Windows:** If you did not enter a product key, you will need to enter one.\n",
            "    *   **Firewall Settings:** Configure the Windows Firewall appropriately.\n",
            "    *   **Roles and Features:** Install the specific server roles and features you need (e.g., Active Directory, DNS, IIS, etc.).\n",
            "\n",
            "**Key Considerations:**\n",
            "\n",
            "*   **Plan Ahead:**  Think about the purpose of your server and plan your installation accordingly.\n",
            "*   **Security:** Implement strong passwords and ensure the server is properly secured.\n",
            "*   **Backup:** Implement a good backup strategy after installation is complete.\n",
            "*   **Virtualization:** Consider using a virtual machine for testing or development purposes before installing on a production server.\n",
            "*   **Documentation:** Refer to Microsoft's official documentation for specific instructions and best practices for the version of Windows Server you are installing.\n",
            "\n",
            "**Troubleshooting:**\n",
            "\n",
            "*   **Error Messages:** Pay close attention to any error messages during installation and research their causes.\n",
            "*   **Driver Issues:** Be prepared to install missing drivers for your hardware.\n",
            "*   **Connectivity:** If your server has networking problems, you may need to troubleshoot your NIC, network cables, and DNS settings.\n",
            "\n",
            "**In summary:** Installing Windows Server is a fairly complex process that requires careful planning and execution. However, by following the above instructions and consulting official documentation, you should be able to successfully install your server.\n",
            "\n",
            "Remember to always do backups before major operations!\n",
            "Good luck!\n",
            "\n"
          ]
        }
      ]
    }
  ]
}